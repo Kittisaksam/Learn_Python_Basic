{
 "cells": [
  {
   "cell_type": "markdown",
   "metadata": {},
   "source": [
    "## Linear Algebra with Python"
   ]
  },
  {
   "cell_type": "code",
   "execution_count": 1,
   "metadata": {
    "colab": {},
    "colab_type": "code",
    "id": "cMjz8KKBBHw_"
   },
   "outputs": [],
   "source": [
    "# First, we need to import the package NumPy, which is the library enabling all the fun with algebraic structures.\n",
    "from numpy import *"
   ]
  },
  {
   "cell_type": "markdown",
   "metadata": {
    "colab_type": "text",
    "id": "WuJund_bBHxU"
   },
   "source": [
    "## Vectors and Matrices"
   ]
  },
  {
   "cell_type": "markdown",
   "metadata": {
    "colab_type": "text",
    "id": "icTCfzrjBHxW"
   },
   "source": [
    "Using NumPy we can define vectors and matrices with both real or complex elements. Although, in contrast to Matlab, where matrix is the default type, in Python we need to define vectors and matrices as `array` or `matrix` type from NumPy package.\n",
    "\n",
    "<img  src=\"http://www.math.cornell.edu/~mec/Winter2009/RalucaRemus/Lecture1/Images/matrix.gif\"/>"
   ]
  },
  {
   "cell_type": "code",
   "execution_count": 2,
   "metadata": {
    "colab": {
     "base_uri": "https://localhost:8080/",
     "height": 51
    },
    "colab_type": "code",
    "executionInfo": {
     "elapsed": 1069,
     "status": "ok",
     "timestamp": 1560442797244,
     "user": {
      "displayName": "Teerapong Panboonyuen",
      "photoUrl": "https://lh6.googleusercontent.com/-iKyx5xtWFk8/AAAAAAAAAAI/AAAAAAAACqY/cdrOGhiN8Pw/s64/photo.jpg",
      "userId": "10952242531985089596"
     },
     "user_tz": -420
    },
    "id": "mUBaU-gzBHxX",
    "outputId": "7053ffa9-59d5-43be-a5ad-89eca21b0c32"
   },
   "outputs": [
    {
     "name": "stdout",
     "output_type": "stream",
     "text": [
      "[10 20 30]\n",
      "(3,)\n"
     ]
    }
   ],
   "source": [
    "a = array([10,20,30])   # Define a vector of size 3 using type 'array'\n",
    "print(a)\n",
    "print(a.shape)          # Size/shape of vector"
   ]
  },
  {
   "cell_type": "code",
   "execution_count": 3,
   "metadata": {
    "colab": {
     "base_uri": "https://localhost:8080/",
     "height": 51
    },
    "colab_type": "code",
    "executionInfo": {
     "elapsed": 1072,
     "status": "ok",
     "timestamp": 1560442807484,
     "user": {
      "displayName": "Teerapong Panboonyuen",
      "photoUrl": "https://lh6.googleusercontent.com/-iKyx5xtWFk8/AAAAAAAAAAI/AAAAAAAACqY/cdrOGhiN8Pw/s64/photo.jpg",
      "userId": "10952242531985089596"
     },
     "user_tz": -420
    },
    "id": "U1mQK9fjBHxf",
    "outputId": "e7dd50b2-16b5-4cfd-e4a9-8f8f79c87c7f"
   },
   "outputs": [
    {
     "name": "stdout",
     "output_type": "stream",
     "text": [
      "[[10 20 30]]\n",
      "(1, 3)\n"
     ]
    }
   ],
   "source": [
    "b = matrix('10 20 30')  # Define a vector of size 3 using type 'matrix'\n",
    "print(b)\n",
    "print(b.shape)          # Size/shape of vector"
   ]
  },
  {
   "cell_type": "code",
   "execution_count": 4,
   "metadata": {
    "colab": {
     "base_uri": "https://localhost:8080/",
     "height": 34
    },
    "colab_type": "code",
    "executionInfo": {
     "elapsed": 600,
     "status": "ok",
     "timestamp": 1560442807485,
     "user": {
      "displayName": "Teerapong Panboonyuen",
      "photoUrl": "https://lh6.googleusercontent.com/-iKyx5xtWFk8/AAAAAAAAAAI/AAAAAAAACqY/cdrOGhiN8Pw/s64/photo.jpg",
      "userId": "10952242531985089596"
     },
     "user_tz": -420
    },
    "id": "TfUDHblnBHxl",
    "outputId": "95e4e924-cc8b-44a1-e04e-d6d8a009ff00"
   },
   "outputs": [
    {
     "name": "stdout",
     "output_type": "stream",
     "text": [
      "[10. 12. 14. 16. 18. 20.]\n"
     ]
    }
   ],
   "source": [
    "c = linspace(10,20,6)   # Define vector as 6 values evenly spaced from 10 to 20\n",
    "print(c)"
   ]
  },
  {
   "cell_type": "markdown",
   "metadata": {
    "colab_type": "text",
    "id": "M1tOQ7UMBHxr"
   },
   "source": [
    "Note that matrix and array elements in Python are indexed from 0, in contrast to Matlab where indexing starts from 1."
   ]
  },
  {
   "cell_type": "code",
   "execution_count": 5,
   "metadata": {
    "colab": {
     "base_uri": "https://localhost:8080/",
     "height": 119
    },
    "colab_type": "code",
    "executionInfo": {
     "elapsed": 830,
     "status": "ok",
     "timestamp": 1560442860232,
     "user": {
      "displayName": "Teerapong Panboonyuen",
      "photoUrl": "https://lh6.googleusercontent.com/-iKyx5xtWFk8/AAAAAAAAAAI/AAAAAAAACqY/cdrOGhiN8Pw/s64/photo.jpg",
      "userId": "10952242531985089596"
     },
     "user_tz": -420
    },
    "id": "msEthMgyBHxt",
    "outputId": "09ee057b-53f8-4151-a34a-04467aa2d007"
   },
   "outputs": [
    {
     "name": "stdout",
     "output_type": "stream",
     "text": [
      "[10. 12. 14. 16. 18. 20.]\n",
      "10.0\n",
      "20.0\n",
      "[10. 12. 14.]\n",
      "[16. 18. 20.]\n",
      "[14. 16.]\n"
     ]
    }
   ],
   "source": [
    "print(c[:])     # Get all elements\n",
    "print(c[0])     # The first element\n",
    "print(c[-1])    # The last element\n",
    "print(c[:3])    # The first 3 elements\n",
    "print(c[-3:])   # The last 3 elemnets\n",
    "print(c[2:4])   # 2:4 selects elements of indexes 2 and 3"
   ]
  },
  {
   "cell_type": "markdown",
   "metadata": {
    "colab_type": "text",
    "id": "QeiSlfmGBHxx"
   },
   "source": [
    "**_Euclidean norm_** of vector is returned by method `numpy.linalg.norm`"
   ]
  },
  {
   "cell_type": "code",
   "execution_count": 6,
   "metadata": {
    "colab": {
     "base_uri": "https://localhost:8080/",
     "height": 85
    },
    "colab_type": "code",
    "executionInfo": {
     "elapsed": 835,
     "status": "ok",
     "timestamp": 1560442864810,
     "user": {
      "displayName": "Teerapong Panboonyuen",
      "photoUrl": "https://lh6.googleusercontent.com/-iKyx5xtWFk8/AAAAAAAAAAI/AAAAAAAACqY/cdrOGhiN8Pw/s64/photo.jpg",
      "userId": "10952242531985089596"
     },
     "user_tz": -420
    },
    "id": "feJzzwVwBHxz",
    "outputId": "aad7cb45-b0ef-4ab4-df66-9e68368cb526"
   },
   "outputs": [
    {
     "name": "stdout",
     "output_type": "stream",
     "text": [
      "a = [10 20 30]\n",
      "norm(a) = 37.416573867739416\n",
      "x = [0.26726124 0.53452248 0.80178373]\n",
      "norm(x) = 0.9999999999999999\n"
     ]
    }
   ],
   "source": [
    "norm = linalg.norm(a)      # Euclidean norm of vector a\n",
    "print('a =', a)\n",
    "print('norm(a) =', norm)\n",
    "\n",
    "x = a/linalg.norm(a)       # Make normalized/unit vector from a\n",
    "print('x =', x)\n",
    "print('norm(x) =', linalg.norm(x))"
   ]
  },
  {
   "cell_type": "markdown",
   "metadata": {
    "colab_type": "text",
    "id": "l0FDDryvBHx5"
   },
   "source": [
    "**_Transposition_** of vectors is not so intuitive as in Matlab, especially if a vector is defined as 1D `array` and you cannot distinguish between row and column vector. However, using the keyword `newaxis` it's possible to shape the vector into 2D array (as matrix of size $1 \\times n$ or $n \\times 1$), where transposition makes sense and can be obtained by attribute `.T`."
   ]
  },
  {
   "cell_type": "code",
   "execution_count": 7,
   "metadata": {
    "colab": {
     "base_uri": "https://localhost:8080/",
     "height": 102
    },
    "colab_type": "code",
    "executionInfo": {
     "elapsed": 822,
     "status": "ok",
     "timestamp": 1560442881609,
     "user": {
      "displayName": "Teerapong Panboonyuen",
      "photoUrl": "https://lh6.googleusercontent.com/-iKyx5xtWFk8/AAAAAAAAAAI/AAAAAAAACqY/cdrOGhiN8Pw/s64/photo.jpg",
      "userId": "10952242531985089596"
     },
     "user_tz": -420
    },
    "id": "expuVonNBHx6",
    "outputId": "48968bed-a3e5-4567-b84a-9ac85f1507ac"
   },
   "outputs": [
    {
     "name": "stdout",
     "output_type": "stream",
     "text": [
      "[[10]\n",
      " [20]\n",
      " [30]]\n",
      "(3, 1)\n",
      "[[10 20 30]]\n"
     ]
    }
   ],
   "source": [
    "x = a[:,newaxis]  # Make column vector from vector a (defined as array)\n",
    "print(x)\n",
    "print(x.shape)    # Now size of column vector is 3x1\n",
    "print(x.T)        # Make row vector by transpostion of column vector"
   ]
  },
  {
   "cell_type": "markdown",
   "metadata": {
    "colab_type": "text",
    "id": "psQsskCeBHx_"
   },
   "source": [
    "If a vector was defined as 2D array of type `matrix`, transportation is not a problem."
   ]
  },
  {
   "cell_type": "code",
   "execution_count": 8,
   "metadata": {
    "colab": {
     "base_uri": "https://localhost:8080/",
     "height": 102
    },
    "colab_type": "code",
    "executionInfo": {
     "elapsed": 854,
     "status": "ok",
     "timestamp": 1560442890494,
     "user": {
      "displayName": "Teerapong Panboonyuen",
      "photoUrl": "https://lh6.googleusercontent.com/-iKyx5xtWFk8/AAAAAAAAAAI/AAAAAAAACqY/cdrOGhiN8Pw/s64/photo.jpg",
      "userId": "10952242531985089596"
     },
     "user_tz": -420
    },
    "id": "PaSw3UNrBHyA",
    "outputId": "179be8f6-3c56-47e1-9401-5cb77ce67317"
   },
   "outputs": [
    {
     "name": "stdout",
     "output_type": "stream",
     "text": [
      "[[10]\n",
      " [20]\n",
      " [30]]\n",
      "(3, 1)\n",
      "[[10 20 30]]\n"
     ]
    }
   ],
   "source": [
    "x = b.T           # Make column vector from vector b (defined as matrix)\n",
    "print(x)\n",
    "print(x.shape)    # Now size of column vector is 3x1\n",
    "print(x.T)        # Make row vector by transpostion of column vector"
   ]
  },
  {
   "cell_type": "markdown",
   "metadata": {
    "colab_type": "text",
    "id": "WeAvtqrFBHyH"
   },
   "source": [
    "**_Matrices_** can be defined as 2D arrays of type `array` or `matrix` (there is no problem with transposition with any type)."
   ]
  },
  {
   "cell_type": "code",
   "execution_count": 9,
   "metadata": {
    "colab": {
     "base_uri": "https://localhost:8080/",
     "height": 85
    },
    "colab_type": "code",
    "executionInfo": {
     "elapsed": 1018,
     "status": "ok",
     "timestamp": 1560442968205,
     "user": {
      "displayName": "Teerapong Panboonyuen",
      "photoUrl": "https://lh6.googleusercontent.com/-iKyx5xtWFk8/AAAAAAAAAAI/AAAAAAAACqY/cdrOGhiN8Pw/s64/photo.jpg",
      "userId": "10952242531985089596"
     },
     "user_tz": -420
    },
    "id": "2HhG2KdlBHyH",
    "outputId": "6de58e96-1593-43dc-9bee-6ffa2c598993"
   },
   "outputs": [
    {
     "name": "stdout",
     "output_type": "stream",
     "text": [
      "[[11 12 13]\n",
      " [21 22 23]\n",
      " [31 32 33]]\n",
      "(3, 3)\n"
     ]
    }
   ],
   "source": [
    "A = array([[11,12,13], [21,22,23], [31,32,33]])  # Define matrix of size 3x3 as 2D 'array-type'\n",
    "print(A)\n",
    "print(A.shape)"
   ]
  },
  {
   "cell_type": "code",
   "execution_count": 10,
   "metadata": {
    "colab": {
     "base_uri": "https://localhost:8080/",
     "height": 85
    },
    "colab_type": "code",
    "executionInfo": {
     "elapsed": 616,
     "status": "ok",
     "timestamp": 1560442968210,
     "user": {
      "displayName": "Teerapong Panboonyuen",
      "photoUrl": "https://lh6.googleusercontent.com/-iKyx5xtWFk8/AAAAAAAAAAI/AAAAAAAACqY/cdrOGhiN8Pw/s64/photo.jpg",
      "userId": "10952242531985089596"
     },
     "user_tz": -420
    },
    "id": "NeFzU4gnBHyQ",
    "outputId": "e72c680c-5f67-4a4d-e054-720ff499ac12"
   },
   "outputs": [
    {
     "name": "stdout",
     "output_type": "stream",
     "text": [
      "[[11 12 13]\n",
      " [21 22 23]\n",
      " [31 32 33]]\n",
      "(3, 3)\n"
     ]
    }
   ],
   "source": [
    "B = matrix('11 12 13; 21 22 23; 31 32 33')  # Define matrix of size 3x3 as 'matrix-type'\n",
    "print(B)\n",
    "print(B.shape)"
   ]
  },
  {
   "cell_type": "code",
   "execution_count": 11,
   "metadata": {
    "colab": {
     "base_uri": "https://localhost:8080/",
     "height": 102
    },
    "colab_type": "code",
    "executionInfo": {
     "elapsed": 981,
     "status": "ok",
     "timestamp": 1560443014290,
     "user": {
      "displayName": "Teerapong Panboonyuen",
      "photoUrl": "https://lh6.googleusercontent.com/-iKyx5xtWFk8/AAAAAAAAAAI/AAAAAAAACqY/cdrOGhiN8Pw/s64/photo.jpg",
      "userId": "10952242531985089596"
     },
     "user_tz": -420
    },
    "id": "X9K9eSg6BHyX",
    "outputId": "6d9cb350-6a84-4002-bb7a-7cfa1daf215e"
   },
   "outputs": [
    {
     "name": "stdout",
     "output_type": "stream",
     "text": [
      "12\n",
      "[[11 12 13]]\n",
      "[[11]\n",
      " [21]\n",
      " [31]]\n"
     ]
    }
   ],
   "source": [
    "print(B[0,1])    # Get matrix element at row 0, column 1\n",
    "print(B[0,:])    # Get 1st row of matrix (A[0] returns also 1st row)\n",
    "print(B[:,0])    # Get 1st column of matrix"
   ]
  },
  {
   "cell_type": "code",
   "execution_count": 12,
   "metadata": {
    "colab": {
     "base_uri": "https://localhost:8080/",
     "height": 85
    },
    "colab_type": "code",
    "executionInfo": {
     "elapsed": 641,
     "status": "ok",
     "timestamp": 1560443014291,
     "user": {
      "displayName": "Teerapong Panboonyuen",
      "photoUrl": "https://lh6.googleusercontent.com/-iKyx5xtWFk8/AAAAAAAAAAI/AAAAAAAACqY/cdrOGhiN8Pw/s64/photo.jpg",
      "userId": "10952242531985089596"
     },
     "user_tz": -420
    },
    "id": "dAiaIIfeBHyc",
    "outputId": "ee74cd9c-8b0c-4b38-8023-fc8b415e3112"
   },
   "outputs": [
    {
     "name": "stdout",
     "output_type": "stream",
     "text": [
      "[11 21 31]\n",
      "[[11]\n",
      " [21]\n",
      " [31]]\n"
     ]
    }
   ],
   "source": [
    "print(A[:,0])   # Note that column from 'array-type' matrix is returned as 1D array\n",
    "print(B[:,0])   # Column from 'matrix-type' matrix is returned as true column as expected"
   ]
  },
  {
   "cell_type": "markdown",
   "metadata": {
    "colab_type": "text",
    "id": "kAPJ1jEnBHyf"
   },
   "source": [
    "NumPy can generate some essential matrices exactly like Matlab."
   ]
  },
  {
   "cell_type": "code",
   "execution_count": 13,
   "metadata": {
    "colab": {
     "base_uri": "https://localhost:8080/",
     "height": 425
    },
    "colab_type": "code",
    "executionInfo": {
     "elapsed": 859,
     "status": "ok",
     "timestamp": 1560443020928,
     "user": {
      "displayName": "Teerapong Panboonyuen",
      "photoUrl": "https://lh6.googleusercontent.com/-iKyx5xtWFk8/AAAAAAAAAAI/AAAAAAAACqY/cdrOGhiN8Pw/s64/photo.jpg",
      "userId": "10952242531985089596"
     },
     "user_tz": -420
    },
    "id": "hArEBi2SBHyg",
    "outputId": "8b1fb2eb-01ec-4ac1-f545-e7093f128fae"
   },
   "outputs": [
    {
     "name": "stdout",
     "output_type": "stream",
     "text": [
      "3x3 Matrix full of zeros:\n",
      "[[0. 0. 0.]\n",
      " [0. 0. 0.]\n",
      " [0. 0. 0.]]\n",
      "\n",
      "3x3 Matrix full of ones:\n",
      "[[1. 1. 1.]\n",
      " [1. 1. 1.]\n",
      " [1. 1. 1.]]\n",
      "\n",
      "3x3 identity matrix:\n",
      "[[1. 0. 0.]\n",
      " [0. 1. 0.]\n",
      " [0. 0. 1.]]\n",
      "\n",
      "3x3 diagonal matrix:\n",
      "[[1. 0. 0.]\n",
      " [0. 2. 0.]\n",
      " [0. 0. 3.]]\n",
      "\n",
      "3x3 random matrix:\n",
      "[[0.33094599 0.65882418 0.68901769]\n",
      " [0.51561601 0.79261571 0.20960937]\n",
      " [0.8699777  0.84931473 0.35697429]]\n"
     ]
    }
   ],
   "source": [
    "print('3x3 Matrix full of zeros:')\n",
    "print(zeros([3,3]))\n",
    "\n",
    "print('\\n3x3 Matrix full of ones:')\n",
    "print(ones([3,3]))\n",
    "\n",
    "print('\\n3x3 identity matrix:')\n",
    "print(eye(3))\n",
    "\n",
    "print('\\n3x3 diagonal matrix:')\n",
    "x = array([1.,2.,3.])\n",
    "print(diag(x))\n",
    "\n",
    "print('\\n3x3 random matrix:')\n",
    "print(random.rand(3,3))"
   ]
  },
  {
   "cell_type": "markdown",
   "metadata": {
    "colab_type": "text",
    "id": "eM6WGp8fBHyk"
   },
   "source": [
    "For merging matrices or vectors methods `numpy.hstack` and `numpy.vstack` can be used."
   ]
  },
  {
   "cell_type": "code",
   "execution_count": 14,
   "metadata": {
    "colab": {
     "base_uri": "https://localhost:8080/",
     "height": 187
    },
    "colab_type": "code",
    "executionInfo": {
     "elapsed": 932,
     "status": "ok",
     "timestamp": 1560443041969,
     "user": {
      "displayName": "Teerapong Panboonyuen",
      "photoUrl": "https://lh6.googleusercontent.com/-iKyx5xtWFk8/AAAAAAAAAAI/AAAAAAAACqY/cdrOGhiN8Pw/s64/photo.jpg",
      "userId": "10952242531985089596"
     },
     "user_tz": -420
    },
    "id": "0kTXSgj4BHym",
    "outputId": "020ed1ed-36d6-4d4a-c011-73938d8c1f1f"
   },
   "outputs": [
    {
     "name": "stdout",
     "output_type": "stream",
     "text": [
      "[[11. 12. 13.]\n",
      " [21. 22. 23.]\n",
      " [31. 32. 33.]\n",
      " [ 1.  1.  1.]]\n",
      "[[11. 12. 13.  1.]\n",
      " [21. 22. 23.  1.]\n",
      " [31. 32. 33.  1.]]\n",
      "[[11. 12. 13.  1.  0.  0.]\n",
      " [21. 22. 23.  0.  1.  0.]\n",
      " [31. 32. 33.  0.  0.  1.]]\n"
     ]
    }
   ],
   "source": [
    "print(vstack([ A, ones([1,3]) ]))  # Add row vector to matrix\n",
    "print(hstack([ A, ones([3,1]) ]))  # Add column vector to matrix\n",
    "print(hstack([ A, eye(3) ]))       # Merge two matrices horizontally"
   ]
  },
  {
   "cell_type": "markdown",
   "metadata": {
    "colab_type": "text",
    "id": "wzKVNmfLBHyp"
   },
   "source": [
    "## Operations with Matrices\n",
    "\n",
    "**_Matrix transposition_** is obtained by attribute `.T`"
   ]
  },
  {
   "cell_type": "code",
   "execution_count": 15,
   "metadata": {
    "colab": {
     "base_uri": "https://localhost:8080/",
     "height": 136
    },
    "colab_type": "code",
    "executionInfo": {
     "elapsed": 826,
     "status": "ok",
     "timestamp": 1560443055667,
     "user": {
      "displayName": "Teerapong Panboonyuen",
      "photoUrl": "https://lh6.googleusercontent.com/-iKyx5xtWFk8/AAAAAAAAAAI/AAAAAAAACqY/cdrOGhiN8Pw/s64/photo.jpg",
      "userId": "10952242531985089596"
     },
     "user_tz": -420
    },
    "id": "XCHUxY5sBHyq",
    "outputId": "48d3c7c8-5ad7-433d-ec33-921ce6a8efe1"
   },
   "outputs": [
    {
     "name": "stdout",
     "output_type": "stream",
     "text": [
      "Matrix X of size (2, 5) :\n",
      " [[1. 1. 1. 1. 1.]\n",
      " [1. 1. 1. 1. 1.]]\n",
      "\n",
      "Matrix Y=X.T of size (5, 2) :\n",
      " [[1. 1.]\n",
      " [1. 1.]\n",
      " [1. 1.]\n",
      " [1. 1.]\n",
      " [1. 1.]]\n"
     ]
    }
   ],
   "source": [
    "X = ones([2,5])     # Generate 2x5 matrix full of ones\n",
    "Y = X.T             # Obtain transpose of matrix X\n",
    "\n",
    "print('Matrix X of size', X.shape, ':\\n', X)\n",
    "print('\\nMatrix Y=X.T of size', Y.shape, ':\\n', Y)"
   ]
  },
  {
   "cell_type": "markdown",
   "metadata": {
    "colab_type": "text",
    "id": "ZKMyooPvBHyz"
   },
   "source": [
    "**_Matrix multiplication_** must be executed by method for dot product `numpy.dot`. Operator `*` produces only element-wise multiplication in Python."
   ]
  },
  {
   "cell_type": "code",
   "execution_count": 16,
   "metadata": {
    "colab": {
     "base_uri": "https://localhost:8080/",
     "height": 425
    },
    "colab_type": "code",
    "executionInfo": {
     "elapsed": 858,
     "status": "ok",
     "timestamp": 1560443146174,
     "user": {
      "displayName": "Teerapong Panboonyuen",
      "photoUrl": "https://lh6.googleusercontent.com/-iKyx5xtWFk8/AAAAAAAAAAI/AAAAAAAACqY/cdrOGhiN8Pw/s64/photo.jpg",
      "userId": "10952242531985089596"
     },
     "user_tz": -420
    },
    "id": "CWQPkrfwBHy0",
    "outputId": "1a425197-debd-466a-85e9-d5827203bfd3"
   },
   "outputs": [
    {
     "name": "stdout",
     "output_type": "stream",
     "text": [
      "Matrix A:\n",
      "[[11 12 13]\n",
      " [21 22 23]\n",
      " [31 32 33]]\n",
      "\n",
      "Matrix B:\n",
      "[[1. 1. 1.]\n",
      " [1. 1. 1.]\n",
      " [1. 1. 1.]]\n",
      "\n",
      "Element-wise multiplication A*B:\n",
      "[[11. 12. 13.]\n",
      " [21. 22. 23.]\n",
      " [31. 32. 33.]]\n",
      "\n",
      "Matrix multiplication A by B:\n",
      "[[36. 36. 36.]\n",
      " [66. 66. 66.]\n",
      " [96. 96. 96.]]\n",
      "\n",
      "Matrix multiplication B by A:\n",
      "[[63. 66. 69.]\n",
      " [63. 66. 69.]\n",
      " [63. 66. 69.]]\n"
     ]
    }
   ],
   "source": [
    "print('Matrix A:')\n",
    "print(A)\n",
    "\n",
    "print('\\nMatrix B:')\n",
    "B = ones([3,3])\n",
    "print(B)\n",
    "\n",
    "print('\\nElement-wise multiplication A*B:')\n",
    "print(A*B)\n",
    "\n",
    "print('\\nMatrix multiplication A by B:')\n",
    "print(dot(A,B))\n",
    "\n",
    "print('\\nMatrix multiplication B by A:')\n",
    "print(dot(B,A))"
   ]
  },
  {
   "cell_type": "markdown",
   "metadata": {
    "colab_type": "text",
    "id": "14b0IbRXBHy5"
   },
   "source": [
    "There are also methods for essential matrix features like **_Frobenius norm_**, **_rank_** or **_determinant_**."
   ]
  },
  {
   "cell_type": "code",
   "execution_count": 17,
   "metadata": {
    "colab": {
     "base_uri": "https://localhost:8080/",
     "height": 119
    },
    "colab_type": "code",
    "executionInfo": {
     "elapsed": 864,
     "status": "ok",
     "timestamp": 1560443163503,
     "user": {
      "displayName": "Teerapong Panboonyuen",
      "photoUrl": "https://lh6.googleusercontent.com/-iKyx5xtWFk8/AAAAAAAAAAI/AAAAAAAACqY/cdrOGhiN8Pw/s64/photo.jpg",
      "userId": "10952242531985089596"
     },
     "user_tz": -420
    },
    "id": "bweFhJJpBHy7",
    "outputId": "b801b1d8-a86f-45e5-cf1a-9f3d21e28df0"
   },
   "outputs": [
    {
     "name": "stdout",
     "output_type": "stream",
     "text": [
      "Matrix A of size (3, 3) :\n",
      " [[11 12 13]\n",
      " [21 22 23]\n",
      " [31 32 33]]\n",
      "\n",
      "Frobenius norm: ||A|| = 70.44146506142529\n",
      "rank(A) = 2\n",
      "det(A) = -3.387970907404506e-14\n"
     ]
    }
   ],
   "source": [
    "print('Matrix A of size', A.shape, ':\\n', A)\n",
    "\n",
    "# Frobenius norm of matrix\n",
    "print('\\nFrobenius norm: ||A|| =', linalg.norm(A))\n",
    "\n",
    "# Rank of matrix\n",
    "print('rank(A) =', linalg.matrix_rank(A))\n",
    "\n",
    "# Determinant of matrix\n",
    "print('det(A) =',  linalg.det(A))"
   ]
  },
  {
   "cell_type": "markdown",
   "metadata": {
    "colab_type": "text",
    "id": "H9kGnyl6BHy_"
   },
   "source": [
    "In example above, note that the matrix $\\mathbf{A}$ is a singular matrix, because its rank is lower than number of its rows, thus also its detemninat is zero."
   ]
  },
  {
   "cell_type": "code",
   "execution_count": null,
   "metadata": {
    "colab": {},
    "colab_type": "code",
    "id": "gJsWZUafVKhK"
   },
   "outputs": [],
   "source": []
  }
 ],
 "metadata": {
  "colab": {
   "collapsed_sections": [],
   "name": "2_LinearAlgebra_with_Python-NumPy_2019.ipynb",
   "provenance": [],
   "toc_visible": true,
   "version": "0.3.2"
  },
  "kernelspec": {
   "display_name": "Python 3",
   "language": "python",
   "name": "python3"
  },
  "language_info": {
   "codemirror_mode": {
    "name": "ipython",
    "version": 3
   },
   "file_extension": ".py",
   "mimetype": "text/x-python",
   "name": "python",
   "nbconvert_exporter": "python",
   "pygments_lexer": "ipython3",
   "version": "3.7.6"
  }
 },
 "nbformat": 4,
 "nbformat_minor": 1
}
